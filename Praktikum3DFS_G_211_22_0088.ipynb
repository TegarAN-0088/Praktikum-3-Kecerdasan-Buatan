{
  "nbformat": 4,
  "nbformat_minor": 0,
  "metadata": {
    "colab": {
      "provenance": [],
      "authorship_tag": "ABX9TyOB7KHEcGNZrtJRuTwMVWub",
      "include_colab_link": true
    },
    "kernelspec": {
      "name": "python3",
      "display_name": "Python 3"
    },
    "language_info": {
      "name": "python"
    }
  },
  "cells": [
    {
      "cell_type": "markdown",
      "metadata": {
        "id": "view-in-github",
        "colab_type": "text"
      },
      "source": [
        "<a href=\"https://colab.research.google.com/github/TegarAN-0088/Praktikum-3-Kecerdasan-Buatan/blob/main/Praktikum3DFS_G_211_22_0088.ipynb\" target=\"_parent\"><img src=\"https://colab.research.google.com/assets/colab-badge.svg\" alt=\"Open In Colab\"/></a>"
      ]
    },
    {
      "cell_type": "markdown",
      "source": [
        "PRAKTIKUM 3\n",
        "\n",
        "\n",
        "---\n",
        "DFS (Depth First Search)"
      ],
      "metadata": {
        "id": "SYKmxbAa6UNZ"
      }
    },
    {
      "cell_type": "code",
      "execution_count": null,
      "metadata": {
        "colab": {
          "base_uri": "https://localhost:8080/"
        },
        "id": "LdgIphF65PiS",
        "outputId": "455fb404-a097-41a0-8ebc-fb32c6271964"
      },
      "outputs": [
        {
          "output_type": "stream",
          "name": "stdout",
          "text": [
            "Masukan awal: A\n",
            "Masukan akhir: E\n",
            "['A', 'B', 'C', 'H', 'G', 'F', 'D', 'E']\n"
          ]
        }
      ],
      "source": [
        "peta = {\n",
        "    'A':set(['B']),\n",
        "    'B':set(['C','A']),\n",
        "    'C':set(['H','B','I','D']),\n",
        "    'D':set(['C','E','H','F']),\n",
        "    'E':set(['D']),\n",
        "    'F':set(['D','G']),\n",
        "    'G':set(['F','H']),\n",
        "    'H':set(['L','C','G','D']),\n",
        "    'I':set(['C','J','K']),\n",
        "    'J':set(['I']),\n",
        "    'K':set(['L','I']),\n",
        "    'L':set(['K','H'])}\n",
        "\n",
        "def dfs(graph, mulai, goal):\n",
        "  explored = []\n",
        "  stack = [[mulai]]\n",
        "\n",
        "  if mulai == goal:\n",
        "    return \"Awal adalah tujuan\"\n",
        "\n",
        "  while stack:\n",
        "    jalur = stack.pop(-1)\n",
        "    node = jalur[-1]\n",
        "\n",
        "    if node not in explored:\n",
        "      neighbours = graph[node]\n",
        "\n",
        "      for neighbours in neighbours:\n",
        "        jalur_baru = list(jalur)\n",
        "        jalur_baru.append(neighbours)\n",
        "        stack.append(jalur_baru)\n",
        "\n",
        "        if neighbours == goal:\n",
        "          return jalur_baru\n",
        "\n",
        "      explored.append(node)\n",
        "\n",
        "  return \"Mohon maaf node yang kalian pilih tidak ada\"\n",
        "\n",
        "awal = input(\"Masukan awal: \")\n",
        "tujuan = input(\"Masukan akhir: \")\n",
        "\n",
        "print(dfs(peta, awal, tujuan))"
      ]
    }
  ]
}